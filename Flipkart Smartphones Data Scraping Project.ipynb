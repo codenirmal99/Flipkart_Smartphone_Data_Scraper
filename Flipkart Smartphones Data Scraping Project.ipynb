{
 "cells": [
  {
   "cell_type": "code",
   "execution_count": 123,
   "id": "31ec7199-4943-4b9e-87cf-981b535ec4f2",
   "metadata": {},
   "outputs": [],
   "source": [
    "!pip install requests --upgrade --quiet"
   ]
  },
  {
   "cell_type": "code",
   "execution_count": 124,
   "id": "a473dc32-3096-4682-a7aa-df1124506330",
   "metadata": {},
   "outputs": [],
   "source": [
    "import requests\n",
    "from bs4 import BeautifulSoup"
   ]
  },
  {
   "cell_type": "code",
   "execution_count": 125,
   "id": "db33d61b-b92c-4d6a-bcaf-1e42214d945b",
   "metadata": {},
   "outputs": [],
   "source": [
    "import pandas as pd"
   ]
  },
  {
   "cell_type": "code",
   "execution_count": 126,
   "id": "90f871f4-02a1-460d-bf3d-605befe430b9",
   "metadata": {},
   "outputs": [],
   "source": [
    "url = \"https://www.flipkart.com/search?q=mobiles&otracker=search&otracker1=search&marketplace=FLIPKART&as-show=on&as=off&p%5B%5D=facets.fulfilled_by%255B%255D%3DPlus%2B%2528FAssured%2529&p%5B%5D=facets.price_range.from%3D10000&p%5B%5D=facets.price_range.to%3D30000&p%5B%5D=facets.availability%255B%255D%3DExclude%2BOut%2Bof%2BStock\""
   ]
  },
  {
   "cell_type": "code",
   "execution_count": 127,
   "id": "2d5d8fad-3723-446b-af2c-813ff58fa66a",
   "metadata": {},
   "outputs": [],
   "source": [
    "response = requests.get(url)"
   ]
  },
  {
   "cell_type": "code",
   "execution_count": 128,
   "id": "ccfe74bf-4eb7-4e2b-97c7-c5d65f44731a",
   "metadata": {},
   "outputs": [
    {
     "data": {
      "text/plain": [
       "200"
      ]
     },
     "execution_count": 128,
     "metadata": {},
     "output_type": "execute_result"
    }
   ],
   "source": [
    "response.status_code"
   ]
  },
  {
   "cell_type": "code",
   "execution_count": 129,
   "id": "44c05019-de03-4200-a0af-df32784dd567",
   "metadata": {},
   "outputs": [],
   "source": [
    "soup = BeautifulSoup(response.text,'html.parser')"
   ]
  },
  {
   "cell_type": "code",
   "execution_count": 130,
   "id": "b1b9bd64-aa29-43d9-a1e4-45c32b669a52",
   "metadata": {},
   "outputs": [],
   "source": [
    "smartphone_divs = soup.find_all('div', class_='KzDlHZ')"
   ]
  },
  {
   "cell_type": "code",
   "execution_count": 131,
   "id": "1d6da77e-0a7d-4fe7-a5ed-5e74fb879af7",
   "metadata": {},
   "outputs": [],
   "source": [
    "smartphone_name=[]\n",
    "for div in smartphone_divs:\n",
    "    smartphone_name.append(div.text)"
   ]
  },
  {
   "cell_type": "code",
   "execution_count": 134,
   "id": "16f8b12c-9bf3-41a5-aeff-e4e4e1562f29",
   "metadata": {},
   "outputs": [],
   "source": [
    "prices = soup.find_all('div',class_='Nx9bqj _4b5DiR')"
   ]
  },
  {
   "cell_type": "code",
   "execution_count": 135,
   "id": "9050e962-39cc-431d-a79f-d9d362429b63",
   "metadata": {},
   "outputs": [],
   "source": [
    "smartphone_price =[]\n",
    "for div in prices:\n",
    "    price_str = div.text[1:].replace(',', '')\n",
    "    price_int = int(price_str)\n",
    "    smartphone_price.append(price_int)"
   ]
  },
  {
   "cell_type": "code",
   "execution_count": 136,
   "id": "983b9b14-fc67-4220-9c04-0e5dedfaab6b",
   "metadata": {},
   "outputs": [],
   "source": [
    "rating = soup.find_all('div',class_='XQDdHH')"
   ]
  },
  {
   "cell_type": "code",
   "execution_count": 137,
   "id": "84778107-2504-45a6-aa69-f40581ec5932",
   "metadata": {},
   "outputs": [],
   "source": [
    "smartphone_rating = []\n",
    "for div in rating:\n",
    "    rating_int = float(div.text)\n",
    "    smartphone_rating.append(rating_int)"
   ]
  },
  {
   "cell_type": "code",
   "execution_count": 138,
   "id": "3c1c6485-4201-4bc5-b9ab-778df1c88e07",
   "metadata": {},
   "outputs": [],
   "source": [
    "rated_by = soup.find_all('span',class_='Wphh3N')"
   ]
  },
  {
   "cell_type": "code",
   "execution_count": 139,
   "id": "ffacdc8d-da9e-4d6d-a351-e16e05229151",
   "metadata": {},
   "outputs": [],
   "source": [
    "number_of_people_rated = []\n",
    "for div in rated_by:\n",
    "    removing_term_ratings = div.text.split(' Ratings')[0]\n",
    "    removing_comma = removing_term_ratings.replace(',','')\n",
    "    number_of_people_rated.append(removing_comma)"
   ]
  },
  {
   "cell_type": "code",
   "execution_count": 141,
   "id": "6ce753fb-5f8c-4279-9da9-4ec12f1ac884",
   "metadata": {},
   "outputs": [],
   "source": [
    "ul_elements = soup.find_all('ul', class_='G4BRas')"
   ]
  },
  {
   "cell_type": "code",
   "execution_count": 142,
   "id": "c600e3ea-552a-4eb6-b5be-ed3f0ae6f74d",
   "metadata": {},
   "outputs": [],
   "source": [
    "memory = []\n",
    "display = []\n",
    "camera = []\n",
    "battery = []"
   ]
  },
  {
   "cell_type": "code",
   "execution_count": 143,
   "id": "eeb36d26-6660-4876-bea4-58f2ab91d4a3",
   "metadata": {},
   "outputs": [],
   "source": [
    "for ul in ul_elements:\n",
    "    li_elements = ul.find_all('li', class_='J+igdf')\n",
    "    \n",
    "    memory.append(li_elements[0].text)\n",
    "    display.append(li_elements[1].text)\n",
    "    camera.append(li_elements[2].text)\n",
    "    battery.append(li_elements[3].text)"
   ]
  },
  {
   "cell_type": "code",
   "execution_count": 144,
   "id": "eeb665af-a879-4018-9647-7ccdf0902564",
   "metadata": {},
   "outputs": [],
   "source": [
    "num_pages = 10"
   ]
  },
  {
   "cell_type": "code",
   "execution_count": 145,
   "id": "4204db72-cc1c-4b2e-8534-5b3906968ec3",
   "metadata": {},
   "outputs": [],
   "source": [
    "for page in range(2, num_pages + 1):\n",
    "    next_page_url = f\"{url}&page={page}\"\n",
    "    response = requests.get(next_page_url)\n",
    "\n",
    "    soup = BeautifulSoup(response.text,'html.parser')\n",
    "    smartphone_divs = soup.find_all('div', class_='KzDlHZ')\n",
    "    \n",
    "    for div in smartphone_divs:\n",
    "        smartphone_name.append(div.text)\n",
    "\n",
    "    prices = soup.find_all('div',class_='Nx9bqj _4b5DiR')\n",
    "    \n",
    "    for div in prices:\n",
    "        price_str = div.text[1:].replace(',', '')\n",
    "        price_int = int(price_str)\n",
    "        smartphone_price.append(price_int)\n",
    "\n",
    "    rating = soup.find_all('div',class_='XQDdHH')\n",
    "    \n",
    "    for div in rating:\n",
    "        rating_int = float(div.text)\n",
    "        smartphone_rating.append(rating_int)\n",
    "\n",
    "    rated_by = soup.find_all('span',class_='Wphh3N')\n",
    "    \n",
    "    for div in rated_by:\n",
    "        removing_term_ratings = div.text.split(' Ratings')[0]\n",
    "        removing_comma = removing_term_ratings.replace(',','')\n",
    "        number_of_people_rated.append(removing_comma)\n",
    "\n",
    "    ul_elements = soup.find_all('ul', class_='G4BRas')\n",
    "\n",
    "    for ul in ul_elements:\n",
    "        li_elements = ul.find_all('li', class_='J+igdf')\n",
    "    \n",
    "        memory.append(li_elements[0].text)\n",
    "        display.append(li_elements[1].text)\n",
    "        camera.append(li_elements[2].text)\n",
    "        battery.append(li_elements[3].text)"
   ]
  },
  {
   "cell_type": "code",
   "execution_count": 146,
   "id": "903c7671-9330-4c71-aaac-1c7a786f66e0",
   "metadata": {},
   "outputs": [
    {
     "name": "stdout",
     "output_type": "stream",
     "text": [
      "240\n",
      "240\n",
      "240\n",
      "240\n",
      "240\n",
      "240\n",
      "240\n",
      "240\n"
     ]
    }
   ],
   "source": [
    "print(len(smartphone_name))\n",
    "print(len(smartphone_price))\n",
    "print(len(smartphone_rating))\n",
    "print(len(number_of_people_rated))\n",
    "print(len(memory))\n",
    "print(len(display))\n",
    "print(len(camera))\n",
    "print(len(battery))"
   ]
  },
  {
   "cell_type": "code",
   "execution_count": 147,
   "id": "5765b7b3-ad2e-4494-b898-3907d37bfc84",
   "metadata": {},
   "outputs": [],
   "source": [
    "data = {'Smartphone Name':smartphone_name,'Price (Rs.)':smartphone_price,'Average Rating':smartphone_rating,'Number of Ratings':number_of_people_rated,'Memory Variant':memory,'Display Features':display,'Camera Features':camera,'Battery Features':battery}"
   ]
  },
  {
   "cell_type": "code",
   "execution_count": 148,
   "id": "8089ef3b-0e17-460a-95d6-ac787b865e66",
   "metadata": {},
   "outputs": [],
   "source": [
    "df = pd.DataFrame(data)"
   ]
  },
  {
   "cell_type": "code",
   "execution_count": 149,
   "id": "e19fab35-6df8-4703-bcb8-5c457faee37f",
   "metadata": {},
   "outputs": [],
   "source": [
    "df.to_csv('flipkart smartphones scraped data.csv', index=False)"
   ]
  },
  {
   "cell_type": "code",
   "execution_count": null,
   "id": "a97638af-3a0f-423a-8faf-bd8e90bc6894",
   "metadata": {},
   "outputs": [],
   "source": []
  },
  {
   "cell_type": "code",
   "execution_count": null,
   "id": "bd044bbe-ced2-428e-8604-3c69c8cdf7a2",
   "metadata": {},
   "outputs": [],
   "source": []
  }
 ],
 "metadata": {
  "kernelspec": {
   "display_name": "Python 3 (ipykernel)",
   "language": "python",
   "name": "python3"
  },
  "language_info": {
   "codemirror_mode": {
    "name": "ipython",
    "version": 3
   },
   "file_extension": ".py",
   "mimetype": "text/x-python",
   "name": "python",
   "nbconvert_exporter": "python",
   "pygments_lexer": "ipython3",
   "version": "3.12.4"
  }
 },
 "nbformat": 4,
 "nbformat_minor": 5
}
